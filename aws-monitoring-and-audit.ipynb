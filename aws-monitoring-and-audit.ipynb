{
 "cells": [
  {
   "cell_type": "markdown",
   "metadata": {},
   "source": [
    "# AWS Monitoring & Audit: CloudWatch, CloudTrail and Config\n",
    "\n",
    "## CloudWatch\n",
    "\n",
    "### CloudWatch Metrics\n",
    "### CloudWatch Logs\n",
    "### CloudWatch Alarms\n",
    "- CloudWatch Alarms are on a single metric\n",
    "- **Composite Alarms are monitoring the states of multiple other alarms**.\n",
    "- AND and OR conditions\n",
    "- Helpful to reduce \"alarm noise\" by creating complex composite alarms that only trigger when necessary.\n",
    "\n",
    "### CloudWatch Events (EventBridge)\n",
    "- Schedule: Cron jobs\n",
    "- Event Pattern: Event-driven\n",
    "- Trigger Lambda functions, send SQS/SNS messages, etc."
   ]
  }
 ],
 "metadata": {
  "language_info": {
   "name": "python"
  }
 },
 "nbformat": 4,
 "nbformat_minor": 2
}
